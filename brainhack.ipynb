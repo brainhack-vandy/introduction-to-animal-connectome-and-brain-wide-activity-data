{
 "cells": [
  {
   "cell_type": "markdown",
   "id": "cee32311-b645-4de5-b359-5402d88758ba",
   "metadata": {},
   "source": [
    "## Analysis of brain-wide zebrafish Calcium-imaging data\n",
    "\n",
    "This Jupyter notebook was created from a BootCamp class hosted by the Ahrens in HHMI Janelia (tutors Takashi Kawashima and Mika Rubinov). The goal of this class is to learn the basics of data analysis for large-scale calcium imaging experiments. In our experiment, calcium activities of ~100,000 neurons were simuntaneously recorded from brains of larval zebrafish, behaving in a virtual reality environmen. Dataset: https://www.dropbox.com/sh/n6f2y69s3l985bp/AADXv21TYRkZJI5U2AnAbFP5a?dl=0). \n",
    "\n",
    "In this class, we will consider how:\n",
    "* Activity of individual neurons are tuned to different visual stimuli and swim patterns\n",
    "* Activity of individual neurons is distributed across the whole brain."
   ]
  },
  {
   "cell_type": "markdown",
   "id": "ad31cecc-f490-4c4a-9cad-515ea6a5a09a",
   "metadata": {},
   "source": [
    "### Loading the data\n",
    "\n",
    "First, we will load the data of neuronal activity, position, as well as behavioral variables. We will use the `selected_neural_data.mat` file which contains data on 6000 neurons (selected from all the 100,000 neurons in the original imaging dataset). We use this smaller data for convenience, but if you are interested you can load `neural_data.mat` instead to analyze the activity of all imaged neurons. "
   ]
  },
  {
   "cell_type": "code",
   "execution_count": null,
   "id": "79f2e67e-7da6-4c63-8c50-35dce6acc796",
   "metadata": {},
   "outputs": [],
   "source": [
    "import numpy as np\n",
    "from scipy import io\n",
    "import matplotlib.pyplot as plt\n",
    "\n",
    "# move to data directory\n",
    "%cd /home/mika/Downloads\n",
    "\n",
    "# get activity variables\n",
    "neur_data = io.loadmat('selected_neural_data.mat');\n",
    "volume = neur_data['Volume']\n",
    "activity = neur_data['neural_response_matrix']\n",
    "xyz = neur_data['neural_position_XYZ']\n",
    "\n",
    "# get behavioral variables\n",
    "behavior = io.loadmat('behavioral_variables.mat');\n",
    "backward_stim = behavior['backward_stimuli'][0]\n",
    "forward_stim = behavior['forward_stimuli'][0]\n",
    "swim_power = behavior['swim_power'][0]"
   ]
  },
  {
   "cell_type": "code",
   "execution_count": null,
   "id": "e6903ed9-bd1f-4974-8f7e-48f91d3aecec",
   "metadata": {},
   "outputs": [],
   "source": [
    "# get dimensionality of activity\n",
    "n, t = activity.shape\n",
    "\n",
    "lx, ly, lz = volume.shape\n",
    "\n",
    "print(n, t, lx, ly, lz)"
   ]
  },
  {
   "cell_type": "markdown",
   "id": "6e2484d8-af03-4834-9c8b-6f9df5d89f82",
   "metadata": {},
   "source": [
    "### Plotting and imaging the data\n",
    "\n",
    "Let us now visualize the structure of these data."
   ]
  },
  {
   "cell_type": "code",
   "execution_count": null,
   "id": "ccd52de9-28fb-4cc8-84bf-6665ec894d11",
   "metadata": {},
   "outputs": [],
   "source": [
    "# swim power\n",
    "# stimuli\n",
    "# activity\n",
    "# volume\n"
   ]
  },
  {
   "cell_type": "markdown",
   "id": "b782cbfa-8835-4e57-8040-36ec636f3560",
   "metadata": {},
   "source": [
    "### Indexing into cells\n",
    "\n",
    "Let us index into the structure of these volumes."
   ]
  },
  {
   "cell_type": "code",
   "execution_count": null,
   "id": "9a05a5fe-4760-4aef-9433-ff226a6d1c8a",
   "metadata": {},
   "outputs": [],
   "source": [
    "myvol = np.zeros((lx, ly, lz))\n",
    "\n",
    "for i in range(n):\n",
    "    myvol[np.unravel_index(xyz[i], volume.shape, order=\"f\")] = i"
   ]
  },
  {
   "cell_type": "code",
   "execution_count": null,
   "id": "f0347533-ce3e-462c-aaa2-eff87770b168",
   "metadata": {},
   "outputs": [],
   "source": [
    "plt.imshow(myvol.max(2))"
   ]
  },
  {
   "cell_type": "markdown",
   "id": "2993e7c6-fe1c-4352-92b1-494d493ced54",
   "metadata": {},
   "source": [
    "### Analyzing the data\n",
    "\n",
    "We can consider several analyses of these data, including:\n",
    "* multivariate regression\n",
    "* dimensionality reduction (SVD, NNMF)\n",
    "* clustering (K-means)"
   ]
  },
  {
   "cell_type": "code",
   "execution_count": null,
   "id": "3d6860c6-a8e3-4a1d-bdba-64cb22fc6de6",
   "metadata": {},
   "outputs": [],
   "source": []
  }
 ],
 "metadata": {
  "kernelspec": {
   "display_name": "Python 3 (ipykernel)",
   "language": "python",
   "name": "python3"
  },
  "language_info": {
   "codemirror_mode": {
    "name": "ipython",
    "version": 3
   },
   "file_extension": ".py",
   "mimetype": "text/x-python",
   "name": "python",
   "nbconvert_exporter": "python",
   "pygments_lexer": "ipython3",
   "version": "3.11.5"
  }
 },
 "nbformat": 4,
 "nbformat_minor": 5
}
